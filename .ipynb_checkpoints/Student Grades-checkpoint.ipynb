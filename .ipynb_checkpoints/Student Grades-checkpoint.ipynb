{
 "cells": [
  {
   "cell_type": "code",
   "execution_count": 82,
   "id": "7321b171",
   "metadata": {},
   "outputs": [],
   "source": [
    "import pandas as pd\n",
    "import numpy as np\n",
    "import statistics\n",
    "import math"
   ]
  },
  {
   "cell_type": "code",
   "execution_count": 39,
   "id": "0419c43e",
   "metadata": {},
   "outputs": [
    {
     "data": {
      "text/html": [
       "<div>\n",
       "<style scoped>\n",
       "    .dataframe tbody tr th:only-of-type {\n",
       "        vertical-align: middle;\n",
       "    }\n",
       "\n",
       "    .dataframe tbody tr th {\n",
       "        vertical-align: top;\n",
       "    }\n",
       "\n",
       "    .dataframe thead th {\n",
       "        text-align: right;\n",
       "    }\n",
       "</style>\n",
       "<table border=\"1\" class=\"dataframe\">\n",
       "  <thead>\n",
       "    <tr style=\"text-align: right;\">\n",
       "      <th></th>\n",
       "      <th>Name</th>\n",
       "      <th>Math</th>\n",
       "      <th>Science</th>\n",
       "      <th>Reading</th>\n",
       "      <th>History</th>\n",
       "    </tr>\n",
       "  </thead>\n",
       "  <tbody>\n",
       "    <tr>\n",
       "      <th>0</th>\n",
       "      <td>Adam</td>\n",
       "      <td>11.0</td>\n",
       "      <td>9.0</td>\n",
       "      <td>16.0</td>\n",
       "      <td>13.5</td>\n",
       "    </tr>\n",
       "    <tr>\n",
       "      <th>1</th>\n",
       "      <td>Anna</td>\n",
       "      <td>12.0</td>\n",
       "      <td>11.0</td>\n",
       "      <td>8.5</td>\n",
       "      <td>10.0</td>\n",
       "    </tr>\n",
       "    <tr>\n",
       "      <th>2</th>\n",
       "      <td>James</td>\n",
       "      <td>11.0</td>\n",
       "      <td>18.0</td>\n",
       "      <td>11.5</td>\n",
       "      <td>9.0</td>\n",
       "    </tr>\n",
       "    <tr>\n",
       "      <th>3</th>\n",
       "      <td>Corey</td>\n",
       "      <td>7.0</td>\n",
       "      <td>15.5</td>\n",
       "      <td>11.0</td>\n",
       "      <td>14.0</td>\n",
       "    </tr>\n",
       "    <tr>\n",
       "      <th>4</th>\n",
       "      <td>Alisha</td>\n",
       "      <td>9.5</td>\n",
       "      <td>12.0</td>\n",
       "      <td>10.5</td>\n",
       "      <td>14.0</td>\n",
       "    </tr>\n",
       "    <tr>\n",
       "      <th>5</th>\n",
       "      <td>Jodie</td>\n",
       "      <td>15.0</td>\n",
       "      <td>18.5</td>\n",
       "      <td>7.0</td>\n",
       "      <td>12.0</td>\n",
       "    </tr>\n",
       "    <tr>\n",
       "      <th>6</th>\n",
       "      <td>John</td>\n",
       "      <td>18.0</td>\n",
       "      <td>15.5</td>\n",
       "      <td>11.0</td>\n",
       "      <td>7.5</td>\n",
       "    </tr>\n",
       "  </tbody>\n",
       "</table>\n",
       "</div>"
      ],
      "text/plain": [
       "     Name  Math  Science  Reading  History\n",
       "0    Adam  11.0      9.0     16.0     13.5\n",
       "1    Anna  12.0     11.0      8.5     10.0\n",
       "2   James  11.0     18.0     11.5      9.0\n",
       "3   Corey   7.0     15.5     11.0     14.0\n",
       "4  Alisha   9.5     12.0     10.5     14.0\n",
       "5   Jodie  15.0     18.5      7.0     12.0\n",
       "6    John  18.0     15.5     11.0      7.5"
      ]
     },
     "execution_count": 39,
     "metadata": {},
     "output_type": "execute_result"
    }
   ],
   "source": [
    "df = pd.DataFrame({\"Name\":[\"Adam\",\"Anna\",\"James\",\"Corey\",\"Alisha\",\"Jodie\",\"John\"],\n",
    "                   \"Math\":[11,12,11,7,9.5,15,18],\n",
    "                   \"Science\":[9,11,18,15.5,12,18.5,15.5],\n",
    "                   \"Reading\":[16,8.5,11.5,11,10.5,7,11],\n",
    "                   \"History\":[13.5,10,9,14,14,12,7.5]})\n",
    "df"
   ]
  },
  {
   "cell_type": "code",
   "execution_count": 40,
   "id": "027b7207",
   "metadata": {},
   "outputs": [
    {
     "name": "stdout",
     "output_type": "stream",
     "text": [
      "Adam's mean: 12.375\n",
      "Anna's mean: 10.375\n",
      "James' mean: 12.375\n",
      "Corey's mean: 11.875\n",
      "Alisha's mean: 11.5\n",
      "Jodie's mean: 13.125\n",
      "John's mean: 13.0\n"
     ]
    }
   ],
   "source": [
    "\"\"\"Calculate the mean for each individual subject.\n",
    "Find the median grade in Math for all students.\n",
    "Calculate the mode for History\n",
    "\"\"\"\n",
    "\n",
    "\"\"\"print(f\"Adam's mean {df.loc[0].mean()}\")\n",
    "print(f\"Anna's mean {df.loc[1].mean()}\")\n",
    "print(f\"James's mean {df.loc[2].mean()}\")\n",
    "print(f\"Corey's mean {df.loc[3].mean()}\")\n",
    "print(f\"Alisha's mean {df.loc[4].mean()}\")\n",
    "print(f\"Jodie's mean {df.loc[5].mean()}\")\n",
    "print(f\"John's mean {df.loc[6].mean()}\")\"\"\"\n",
    "adam = df.loc[0,[\"Math\",\"Science\",\"Reading\",\"History\"]].mean()\n",
    "print(f\"Adam's mean: {adam}\")\n",
    "\n",
    "anna = df.loc[1,[\"Math\",\"Science\",\"Reading\",\"History\"]].mean()\n",
    "print(f\"Anna's mean: {anna}\")\n",
    "\n",
    "james = df.loc[2,[\"Math\",\"Science\",\"Reading\",\"History\"]].mean()\n",
    "print(f\"James' mean: {james}\")\n",
    "\n",
    "corey = df.loc[3,[\"Math\",\"Science\",\"Reading\",\"History\"]].mean()\n",
    "print(f\"Corey's mean: {corey}\")\n",
    "\n",
    "alisha = df.loc[4,[\"Math\",\"Science\",\"Reading\",\"History\"]].mean()\n",
    "print(f\"Alisha's mean: {alisha}\")\n",
    "\n",
    "jodie = df.loc[5,[\"Math\",\"Science\",\"Reading\",\"History\"]].mean()\n",
    "print(f\"Jodie's mean: {jodie}\")\n",
    "\n",
    "john = df.loc[6,[\"Math\",\"Science\",\"Reading\",\"History\"]].mean()\n",
    "print(f\"John's mean: {john}\")\n",
    "\n",
    "\n",
    "\n"
   ]
  },
  {
   "cell_type": "code",
   "execution_count": 43,
   "id": "e7c1011d",
   "metadata": {},
   "outputs": [
    {
     "data": {
      "text/plain": [
       "11.0"
      ]
     },
     "execution_count": 43,
     "metadata": {},
     "output_type": "execute_result"
    }
   ],
   "source": [
    "#Find the median grade in Math for all students.\n",
    "math_grades = df[\"Math\"]\n",
    "\n",
    "math_med = np.median(math_grades)\n",
    "\n",
    "math_med"
   ]
  },
  {
   "cell_type": "code",
   "execution_count": 46,
   "id": "4489810c",
   "metadata": {},
   "outputs": [
    {
     "data": {
      "text/plain": [
       "14.0"
      ]
     },
     "execution_count": 46,
     "metadata": {},
     "output_type": "execute_result"
    }
   ],
   "source": [
    "#Calculate the mode for History\n",
    "\n",
    "history_grades = df[\"History\"]\n",
    "\n",
    "h_mode = statistics.mode(history_grades)\n",
    "\n",
    "h_mode"
   ]
  },
  {
   "cell_type": "code",
   "execution_count": 75,
   "id": "f20b5051",
   "metadata": {},
   "outputs": [
    {
     "data": {
      "text/html": [
       "<div>\n",
       "<style scoped>\n",
       "    .dataframe tbody tr th:only-of-type {\n",
       "        vertical-align: middle;\n",
       "    }\n",
       "\n",
       "    .dataframe tbody tr th {\n",
       "        vertical-align: top;\n",
       "    }\n",
       "\n",
       "    .dataframe thead th {\n",
       "        text-align: right;\n",
       "    }\n",
       "</style>\n",
       "<table border=\"1\" class=\"dataframe\">\n",
       "  <thead>\n",
       "    <tr style=\"text-align: right;\">\n",
       "      <th></th>\n",
       "      <th>Math</th>\n",
       "      <th>Science</th>\n",
       "      <th>Reading</th>\n",
       "      <th>History</th>\n",
       "    </tr>\n",
       "  </thead>\n",
       "  <tbody>\n",
       "    <tr>\n",
       "      <th>1</th>\n",
       "      <td>12.0</td>\n",
       "      <td>11.0</td>\n",
       "      <td>8.5</td>\n",
       "      <td>10.0</td>\n",
       "    </tr>\n",
       "    <tr>\n",
       "      <th>2</th>\n",
       "      <td>11.0</td>\n",
       "      <td>18.0</td>\n",
       "      <td>11.5</td>\n",
       "      <td>9.0</td>\n",
       "    </tr>\n",
       "    <tr>\n",
       "      <th>3</th>\n",
       "      <td>7.0</td>\n",
       "      <td>15.5</td>\n",
       "      <td>11.0</td>\n",
       "      <td>14.0</td>\n",
       "    </tr>\n",
       "    <tr>\n",
       "      <th>4</th>\n",
       "      <td>9.5</td>\n",
       "      <td>12.0</td>\n",
       "      <td>10.5</td>\n",
       "      <td>14.0</td>\n",
       "    </tr>\n",
       "    <tr>\n",
       "      <th>5</th>\n",
       "      <td>15.0</td>\n",
       "      <td>18.5</td>\n",
       "      <td>7.0</td>\n",
       "      <td>12.0</td>\n",
       "    </tr>\n",
       "    <tr>\n",
       "      <th>6</th>\n",
       "      <td>18.0</td>\n",
       "      <td>15.5</td>\n",
       "      <td>11.0</td>\n",
       "      <td>7.5</td>\n",
       "    </tr>\n",
       "  </tbody>\n",
       "</table>\n",
       "</div>"
      ],
      "text/plain": [
       "   Math  Science  Reading  History\n",
       "1  12.0     11.0      8.5     10.0\n",
       "2  11.0     18.0     11.5      9.0\n",
       "3   7.0     15.5     11.0     14.0\n",
       "4   9.5     12.0     10.5     14.0\n",
       "5  15.0     18.5      7.0     12.0\n",
       "6  18.0     15.5     11.0      7.5"
      ]
     },
     "execution_count": 75,
     "metadata": {},
     "output_type": "execute_result"
    }
   ],
   "source": [
    "numbers_df = df[[\"Math\",\"Science\",\"Reading\",\"History\"]]\n",
    "numbers_df = df.iloc[1:,1:]\n",
    "numbers_df"
   ]
  },
  {
   "cell_type": "code",
   "execution_count": 95,
   "id": "ebcd097d",
   "metadata": {},
   "outputs": [
    {
     "name": "stdout",
     "output_type": "stream",
     "text": [
      "             Math   Science   Reading   History\n",
      "Math     1.000000  0.257415 -0.307486 -0.728944\n",
      "Science  0.257415  1.000000 -0.016921 -0.189465\n",
      "Reading -0.307486 -0.016921  1.000000 -0.145010\n",
      "History -0.728944 -0.189465 -0.145010  1.000000\n"
     ]
    }
   ],
   "source": [
    "\"\"\"Given the following grades from Question 1, \n",
    "calculate the correlation between the different subjects. \n",
    "What two subjects have the strongest correlation?\n",
    "\"\"\"\n",
    "print(numbers_df.corr())\n",
    "\n",
    "#the 2 subjects that correlation the most are history and math\n",
    "# those subjects have a strong negative correlation\n",
    "# meaning people with high scores in math have low history scores and visa versa\n"
   ]
  },
  {
   "cell_type": "code",
   "execution_count": 88,
   "id": "254afe85",
   "metadata": {},
   "outputs": [
    {
     "name": "stdout",
     "output_type": "stream",
     "text": [
      "Mean: 59.47826086956522, Median: 60.0, Mode: 60, Max: 99, Min: 5, Range: 94,\n",
      "          Variance: 664.162570888469, Standard Deviation: 25.77135174740489\n"
     ]
    }
   ],
   "source": [
    "\"\"\"Write a Python function named desc_stats() that takes a list of numbers and \n",
    "prints the following statistical calculations:\n",
    "Mean, Median, Mode, Minimum, Maximum, Range, Variance, Standard deviation\n",
    "\n",
    "\"\"\"\n",
    "\n",
    "math_scores = [24, 5, 15, 60, 54, 82, 99, 80, 70, 98, 93, 60, 33, 22, 65, 61, 51, 58, 83, 86, 42, 67, 60]\n",
    "\n",
    "def desc_stats(scores):\n",
    "    mean = np.mean(scores)\n",
    "    median = np.median(scores)\n",
    "    mode = statistics.mode(scores)\n",
    "    max_score = max(scores)\n",
    "    min_score = min(scores)\n",
    "    score_range = max_score - min_score\n",
    "    var = sum((x - mean) ** 2 for x in scores) / len(scores)\n",
    "    stand_dev = math.sqrt(var)\n",
    "    \n",
    "    print(f\"\"\"Mean: {mean}, Median: {median}, Mode: {mode}, Max: {max_score}, Min: {min_score}, Range: {score_range},\n",
    "          Variance: {var}, Standard Deviation: {stand_dev}\"\"\")\n",
    "\n",
    "desc_stats(math_scores)\n",
    "\n",
    "\n",
    "\n"
   ]
  },
  {
   "cell_type": "code",
   "execution_count": null,
   "id": "bb07f41a",
   "metadata": {},
   "outputs": [],
   "source": [
    "#Extended Challenge\n",
    "# I would think about curving the grade given that the mean and median are both around 60%\n",
    "# I would think about curving it to a 70% \n",
    "# but since there is such a wide range of 94 and the student with the best grade recieved a 99% \n",
    "# I would believe it would be unfair to that student since their grade would only receive a 1 point increase. \n",
    "# The Standard deviation is also very large at 25.77 for a 0-100 grading scale \n",
    "# and since the mean and median are both barely failing \n",
    "# most people would not receive an increase in their letter grade\n",
    "# if a 10 point curve was given so I was just not curve this test as the majority of the class \n",
    "# would not be impacted by a reasonable curve\n"
   ]
  }
 ],
 "metadata": {
  "kernelspec": {
   "display_name": "Python 3 (ipykernel)",
   "language": "python",
   "name": "python3"
  },
  "language_info": {
   "codemirror_mode": {
    "name": "ipython",
    "version": 3
   },
   "file_extension": ".py",
   "mimetype": "text/x-python",
   "name": "python",
   "nbconvert_exporter": "python",
   "pygments_lexer": "ipython3",
   "version": "3.11.8"
  }
 },
 "nbformat": 4,
 "nbformat_minor": 5
}
